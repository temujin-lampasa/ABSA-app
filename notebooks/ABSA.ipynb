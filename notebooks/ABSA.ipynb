{
 "cells": [
  {
   "cell_type": "markdown",
   "id": "mexican-vessel",
   "metadata": {},
   "source": [
    "# Aspect-Based Sentiment Analysis\n",
    "\n",
    "Code taken from: https://medium.com/analytics-vidhya/aspect-based-sentiment-analysis-a-practical-approach-8f51029bbc4a"
   ]
  },
  {
   "cell_type": "code",
   "execution_count": 1,
   "id": "reduced-january",
   "metadata": {},
   "outputs": [],
   "source": [
    "import stanza\n",
    "import nltk\n",
    "from nltk.corpus import stopwords\n",
    "from nltk.sentiment import SentimentIntensityAnalyzer"
   ]
  },
  {
   "cell_type": "code",
   "execution_count": 2,
   "id": "martial-bulletin",
   "metadata": {},
   "outputs": [
    {
     "name": "stderr",
     "output_type": "stream",
     "text": [
      "Downloading https://raw.githubusercontent.com/stanfordnlp/stanza-resources/master/resources_1.2.0.json: 128kB [00:00, 22.2MB/s]                    \n",
      "2021-04-12 06:34:59 INFO: Downloading default packages for language: en (English)...\n",
      "2021-04-12 06:35:00 INFO: File exists: /Users/TL/stanza_resources/en/default.zip.\n",
      "2021-04-12 06:35:03 INFO: Finished downloading models and saved to /Users/TL/stanza_resources.\n",
      "[nltk_data] Downloading package stopwords to /Users/TL/nltk_data...\n",
      "[nltk_data]   Package stopwords is already up-to-date!\n",
      "[nltk_data] Downloading package punkt to /Users/TL/nltk_data...\n",
      "[nltk_data]   Package punkt is already up-to-date!\n",
      "[nltk_data] Downloading package averaged_perceptron_tagger to\n",
      "[nltk_data]     /Users/TL/nltk_data...\n",
      "[nltk_data]   Package averaged_perceptron_tagger is already up-to-\n",
      "[nltk_data]       date!\n",
      "[nltk_data] Downloading package vader_lexicon to\n",
      "[nltk_data]     /Users/TL/nltk_data...\n",
      "[nltk_data]   Package vader_lexicon is already up-to-date!\n"
     ]
    },
    {
     "data": {
      "text/plain": [
       "True"
      ]
     },
     "execution_count": 2,
     "metadata": {},
     "output_type": "execute_result"
    }
   ],
   "source": [
    "stanza.download('en')\n",
    "nltk.download('stopwords')\n",
    "nltk.download('punkt')\n",
    "nltk.download('averaged_perceptron_tagger')\n",
    "nltk.download('vader_lexicon')"
   ]
  },
  {
   "cell_type": "code",
   "execution_count": 3,
   "id": "resident-mustang",
   "metadata": {},
   "outputs": [
    {
     "name": "stderr",
     "output_type": "stream",
     "text": [
      "2021-04-12 06:35:04 INFO: Loading these models for language: en (English):\n",
      "=========================\n",
      "| Processor | Package   |\n",
      "-------------------------\n",
      "| tokenize  | combined  |\n",
      "| pos       | combined  |\n",
      "| lemma     | combined  |\n",
      "| depparse  | combined  |\n",
      "| sentiment | sstplus   |\n",
      "| ner       | ontonotes |\n",
      "=========================\n",
      "\n",
      "2021-04-12 06:35:04 INFO: Use device: cpu\n",
      "2021-04-12 06:35:04 INFO: Loading: tokenize\n",
      "2021-04-12 06:35:04 INFO: Loading: pos\n",
      "2021-04-12 06:35:04 INFO: Loading: lemma\n",
      "2021-04-12 06:35:04 INFO: Loading: depparse\n",
      "2021-04-12 06:35:05 INFO: Loading: sentiment\n",
      "2021-04-12 06:35:05 INFO: Loading: ner\n",
      "2021-04-12 06:35:06 INFO: Done loading processors!\n"
     ]
    }
   ],
   "source": [
    "nlp = stanza.Pipeline('en', verbose=True)"
   ]
  },
  {
   "cell_type": "code",
   "execution_count": 4,
   "id": "liable-decade",
   "metadata": {},
   "outputs": [],
   "source": [
    "sia = SentimentIntensityAnalyzer()"
   ]
  },
  {
   "cell_type": "code",
   "execution_count": 5,
   "id": "recent-universal",
   "metadata": {},
   "outputs": [],
   "source": [
    "text = \"I hate the service, but the food is great!\""
   ]
  },
  {
   "cell_type": "code",
   "execution_count": 6,
   "id": "younger-thomas",
   "metadata": {},
   "outputs": [],
   "source": [
    "def absa(txt, nlp, stopwords, sia):\n",
    "    txt = txt.lower()\n",
    "    sent_list = nltk.sent_tokenize(txt)\n",
    "    \n",
    "    fcluster = []\n",
    "    totalfeatureList = []\n",
    "    finalcluster = []\n",
    "    dic = {}\n",
    "    \n",
    "    for sent in sent_list:\n",
    "        wordlist = nltk.word_tokenize(sent)\n",
    "        tags = nltk.pos_tag(wordlist)\n",
    "        \n",
    "        # Get new tokens and pos tags after joining nouns\n",
    "        new_sent, new_wordlist = join_nouns(tags)\n",
    "        new_tags = nltk.pos_tag(new_wordlist)\n",
    "        \n",
    "        # Remove stopwords\n",
    "        new_tags = [i for i in new_tags if i[0] not in stopwords]\n",
    "\n",
    "        doc = nlp(new_sent)\n",
    "    \n",
    "        # Getting the dependency relations between the words\n",
    "        dep_node = []\n",
    "        for dep_edge in doc.sentences[0].dependencies:\n",
    "            dep_node.append([dep_edge[2].text, dep_edge[0].id, dep_edge[1]])\n",
    "        \n",
    "        # Convert to appropriate format\n",
    "        for i in range(0, len(dep_node)):\n",
    "            if (int(dep_node[i][1]) != 0):\n",
    "                dep_node[i][1] = new_wordlist[(int(dep_node[i][1]) - 1)]\n",
    "        \n",
    "        featureList = []\n",
    "        categories = []\n",
    "        for i in new_tags:\n",
    "            if(i[1]=='JJ' or i[1]=='NN' or i[1]=='JJR' or i[1]=='NNS' or i[1]=='RB'):\n",
    "                featureList.append(list(i)) # For features for each sentence\n",
    "                totalfeatureList.append(list(i)) # Stores the features of all the sentences in the text\n",
    "                categories.append(i[0])\n",
    "\n",
    "        for i in featureList:\n",
    "            filist = []\n",
    "            for j in dep_node:\n",
    "                if((j[0]==i[0] or j[1]==i[0]) and (j[2] in [\"nsubj\", \"acl:relcl\", \"obj\", \"dobj\", \"agent\", \"advmod\", \"amod\", \"neg\", \"prep_of\", \"acomp\", \"xcomp\", \"compound\"])):\n",
    "                    if(j[0]==i[0]):\n",
    "                        filist.append(j[1])\n",
    "                    else:\n",
    "                        filist.append(j[0])\n",
    "            fcluster.append([i[0], filist])\n",
    "            \n",
    "    for i in totalfeatureList:\n",
    "        dic[i[0]] = i[1]\n",
    "    \n",
    "    for i in fcluster:\n",
    "        if(dic[i[0]]==\"NN\"):\n",
    "            finalcluster.append(i)\n",
    "            \n",
    "    \n",
    "    # Sentiment Analysis\n",
    "    results = []\n",
    "    for aspect, opinion_words in finalcluster:\n",
    "        sentiment = sia.polarity_scores(\" \".join(opinion_words))['compound']\n",
    "        results.append((aspect, sentiment))\n",
    "        \n",
    "    return(results)"
   ]
  },
  {
   "cell_type": "code",
   "execution_count": 7,
   "id": "restricted-coaching",
   "metadata": {},
   "outputs": [],
   "source": [
    "def join_nouns(pos_tag_list):\n",
    "    \"\"\"Given a list of 2-tuples (word, pos_tag),\n",
    "    join all consecutive 'NN' tags to create a new sentence.\n",
    "    \n",
    "    Returns:\n",
    "     -- final_text: the new sentence with joined nouns.\n",
    "     -- new_wordlist: the tokens for the new sentence.\n",
    "    \"\"\"\n",
    "    new_wordlist = []\n",
    "    noun_buffer = []\n",
    "    for idx, elem in enumerate(pos_tag_list):\n",
    "        word, pos = elem\n",
    "        if pos in (\"NN\", \"NNS\"):\n",
    "            noun_buffer.append(word)\n",
    "        else:\n",
    "            if noun_buffer:\n",
    "                new_wordlist.append(''.join(noun_buffer))\n",
    "                noun_buffer.clear()\n",
    "            new_wordlist.append(word)\n",
    "        \n",
    "        if idx == len(pos_tag_list)-1:\n",
    "            if noun_buffer:\n",
    "                new_wordlist.append(''.join(noun_buffer))\n",
    "    final_text = ' '.join(new_wordlist[:-1]) + '.'\n",
    "    return final_text, new_wordlist"
   ]
  },
  {
   "cell_type": "code",
   "execution_count": 8,
   "id": "personal-tourism",
   "metadata": {},
   "outputs": [
    {
     "data": {
      "text/plain": [
       "[('service', -0.5719), ('food', 0.6249)]"
      ]
     },
     "execution_count": 8,
     "metadata": {},
     "output_type": "execute_result"
    }
   ],
   "source": [
    "stop = stopwords.words('english')\n",
    "absa(text, nlp, stop, sia)"
   ]
  }
 ],
 "metadata": {
  "kernelspec": {
   "display_name": "Python 3",
   "language": "python",
   "name": "python3"
  },
  "language_info": {
   "codemirror_mode": {
    "name": "ipython",
    "version": 3
   },
   "file_extension": ".py",
   "mimetype": "text/x-python",
   "name": "python",
   "nbconvert_exporter": "python",
   "pygments_lexer": "ipython3",
   "version": "3.8.5"
  }
 },
 "nbformat": 4,
 "nbformat_minor": 5
}
